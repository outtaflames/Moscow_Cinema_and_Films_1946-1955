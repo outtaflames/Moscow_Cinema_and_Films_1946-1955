{
  "nbformat": 4,
  "nbformat_minor": 0,
  "metadata": {
    "colab": {
      "provenance": [],
      "authorship_tag": "ABX9TyNqMr0RNZWcYabJ35KjfbEv",
      "include_colab_link": true
    },
    "kernelspec": {
      "name": "python3",
      "display_name": "Python 3"
    },
    "language_info": {
      "name": "python"
    }
  },
  "cells": [
    {
      "cell_type": "markdown",
      "metadata": {
        "id": "view-in-github",
        "colab_type": "text"
      },
      "source": [
        "<a href=\"https://colab.research.google.com/github/outtaflames/Moscow_Cinema_and_Films_1946-1955/blob/main/Moscow_Cinema_1946_1955.ipynb\" target=\"_parent\"><img src=\"https://colab.research.google.com/assets/colab-badge.svg\" alt=\"Open In Colab\"/></a>"
      ]
    },
    {
      "cell_type": "code",
      "execution_count": 1,
      "metadata": {
        "id": "nAiNRp7vhQq1"
      },
      "outputs": [],
      "source": [
        "import csv"
      ]
    },
    {
      "cell_type": "code",
      "source": [
        "from itertools import islice\n",
        "from operator import itemgetter"
      ],
      "metadata": {
        "id": "WIMAuFl1XvYh"
      },
      "execution_count": 2,
      "outputs": []
    },
    {
      "cell_type": "code",
      "source": [
        "import pandas as pd\n",
        "import pandas as pandasForSortingCSV"
      ],
      "metadata": {
        "id": "w8or0ZvMX918"
      },
      "execution_count": 3,
      "outputs": []
    },
    {
      "cell_type": "code",
      "source": [
        "from pandas import *"
      ],
      "metadata": {
        "id": "6Vu7ULJqX4ZL"
      },
      "execution_count": 4,
      "outputs": []
    },
    {
      "cell_type": "code",
      "source": [
        "import numpy as np"
      ],
      "metadata": {
        "id": "iO883hfcX7I0"
      },
      "execution_count": 5,
      "outputs": []
    },
    {
      "cell_type": "code",
      "source": [
        "from collections import Counter "
      ],
      "metadata": {
        "id": "EQX_CPIiYLdt"
      },
      "execution_count": 6,
      "outputs": []
    },
    {
      "cell_type": "code",
      "source": [
        "import matplotlib.pyplot as plt"
      ],
      "metadata": {
        "id": "Bcv9gjDRYQ7x"
      },
      "execution_count": 7,
      "outputs": []
    },
    {
      "cell_type": "code",
      "execution_count": 8,
      "metadata": {
        "id": "xONp6ZX44nn6"
      },
      "outputs": [],
      "source": [
        "class MoscowCinemas(): # создаем класс для общих файлов по кинотеатрам в Москве\n",
        "  def __init__(self, filename: str, Cinema, Coordinates, Run, Seats):\n",
        "    self.filename = filename\n",
        "\n",
        "  def read_file(self):\n",
        "    with open (self.filename, 'r') as myfile:\n",
        "      mcinemas = csv.reader(myfile)\n",
        "      return mcinemas\n",
        "      "
      ]
    },
    {
      "cell_type": "code",
      "source": [
        " class Moscow_Cinemas_1946_1955(MoscowCinemas):\n",
        "  def __init__(self, filename: str):\n",
        "    self.filename = filename\n",
        "  \n",
        "  def read_file(self):\n",
        "    mcinemas = super().read_file()\n",
        "    return mcinemas\n",
        "\n",
        "  def new_dataframe(self): # создаем новый датафрейм\n",
        "      mcinemas_new = pd.read_csv(self.filename)\n",
        "      source_df = pd.DataFrame(mcinemas_new)\n",
        "      result_df = source_df.drop(index=[0, 1, 2, 7, 8, 47, 48, 49, 53, 54, 95, 96, 100, 101, 147, 148, 150, 151, 152, 156, 157, 208, 209, \n",
        "                                        213, 214, 215, 219, 220, 267, 268, 269, 273, 274, 328, 329, 330, 331, 381, 382, 383, 438,\n",
        "                                        439, 440, 498, 499, 500], columns=['Unnamed: 4']) # здесь удаляем лишние 46 строк и 1 столбец\n",
        "      result_df.rename(columns = {'Moscow Cinema Theaters, 1946-1955':'Cinema', 'Unnamed: 1':'City', 'Unnamed: 2':'Location', \n",
        "                                  'Unnamed: 3':'Coordinates', 'Unnamed: 5':'Run', 'Unnamed: 6':'Seats', 'Unnamed: 7':'Comments', \n",
        "                                  'Unnamed: 8':'Source'}, inplace = True) # здесь меняем названия столбцов, чтобы дальше нам было легче работать\n",
        "      return result_df \n",
        "  \n",
        "  def run_of_cinema_total(self): # тут посчитаем количество всех кинотеатров в каждом разряде\n",
        "    df = self.new_dataframe()\n",
        "    list_of_first = len(df[df['Run']=='1'])\n",
        "    list_of_second = len(df[df['Run']=='2'])\n",
        "    list_of_third = len(df[df['Run']=='3'])\n",
        "    list_of_total = ['Общее количество кинотеатров первого разряда в период с 1946 по 1955 г.г. составляет ' + str(list_of_first),\n",
        "                      'Общее количество кинотеатров второго разряда в период с 1946 по 1955 г.г. составляет ' + str(list_of_second),\n",
        "                      'Общее количество кинотеатров третьего разряда в период с 1946 по 1955 г.г. составляет ' + str(list_of_third)]\n",
        "    return list_of_total\n",
        "\n",
        "  def total_cinema_in_DF(self): # тут мы считаем количество каждого кинотеатра в датафрейме в общем и целом\n",
        "    df = self.new_dataframe()\n",
        "    cinema_list = df['Cinema'].tolist()\n",
        "    cinema_dict = Counter(cinema_list)\n",
        "    cinema_dict.most_common()\n",
        "    return cinema_dict\n",
        "\n",
        "  def run_of_cinema_unique(self): # тут мы выясняем все имеющиеся разрядности у каждого кинотеатра за период 1946-1955 г.г.\n",
        "    df = self.new_dataframe()\n",
        "    df1 = df.groupby('Cinema')['Run'].unique()\n",
        "    #df2 = df['Cinema'].value_counts()\n",
        "    #df2 = df.groupby().unique(df[['Cinema', 'Seats', 'Run']].values.ravel())\n",
        "    #df1.sort_values(['Seats', 'Run'], axis=0, ascending=[False, False], inplace=True)#.groupby('Run')\n",
        "    return df1\n",
        "\n",
        "  def cinema_unique(self): # здесь мы считаем количество уникальных значений в столбце \"по количеству мест\", сгрупированных по \"кинотеатрам\", \"местам\" и \"разрядности\"\n",
        "    df = self.new_dataframe()\n",
        "    df1 = df.groupby(['Cinema', 'Seats', 'Run'])['Seats'].nunique()\n",
        "    #df1 = df.Seats.value_counts()\n",
        "    #df1 = pd.unique(df[['Cinema', 'Seats', 'Run']].values.ravel())\n",
        "    return df1 #pd.DataFrame(df1)\n",
        "\n",
        "  def number_of_unique_run(self): # тут мы считаем уникальное количество встречающихся рязрядов кинотеатров\n",
        "    df = self.new_dataframe() \n",
        "    df1 = df.groupby(['Cinema', 'Run'])['Run'].count()\n",
        "    return df1"
      ],
      "metadata": {
        "id": "wGirFfZ_Y2P_"
      },
      "execution_count": 9,
      "outputs": []
    },
    {
      "cell_type": "code",
      "source": [
        "showMe = Moscow_Cinemas_1946_1955('Cinemas_Moscow_1946_1955.csv')"
      ],
      "metadata": {
        "id": "C3lU0yCXuJzI"
      },
      "execution_count": 10,
      "outputs": []
    },
    {
      "cell_type": "code",
      "source": [
        "showMe.new_dataframe()"
      ],
      "metadata": {
        "colab": {
          "base_uri": "https://localhost:8080/",
          "height": 641
        },
        "id": "8fcJg_z390jH",
        "outputId": "3f6ef9cd-0a6e-4d7e-eb61-e36369079acc"
      },
      "execution_count": 17,
      "outputs": [
        {
          "output_type": "execute_result",
          "data": {
            "text/plain": [
              "                           Cinema        City             Location  \\\n",
              "3               Колизей / Kolizeĭ  Moscow, SU    Чистые пруды 19-а   \n",
              "4           Метрополь / Metropol'  Moscow, SU    Пл. Свердлова 2/4   \n",
              "5                 Москва / Moskva  Moscow, SU  Пл. Маяковского, 1    \n",
              "6               Ударник / Udarnik  Moscow, SU  ул. Серафимовича, 2   \n",
              "9             Авангард / Avangard  Moscow, SU          Б. Якиманка   \n",
              "..                            ...         ...                  ...   \n",
              "555                Шторм / Shtorm  Moscow, SU       Русаковская, 1   \n",
              "556    Экран жизни / Ėkran zhizni  Moscow, SU  Садово-Каретная, 45   \n",
              "557           Экспресс / Ėkspress  Moscow, SU  Цветной бульвар, 25   \n",
              "558            Эрмитаж / Ėrmitazh  Moscow, SU      Каретный ряд, 3   \n",
              "559  Юный зритель / IUnyĭ zritel'  Moscow, SU            Арбат, 39   \n",
              "\n",
              "                               Coordinates Run Seats      Comments  \\\n",
              "3                     55.761781, 37.645941   1  1000  Union Cinema   \n",
              "4                     55.758448, 37.621669   1   680  Union Cinema   \n",
              "5                     55.769494, 37.593533   1   747  Union Cinema   \n",
              "6                     55.744450, 37.613072   1  1587  Union Cinema   \n",
              "9                     55.731779, 37.611473   1   489           NaN   \n",
              "..                                     ...  ..   ...           ...   \n",
              "555   55.78235111103543, 37.67006121362364   1   622           NaN   \n",
              "556  55.77342398078649, 37.611662769437814   2   565           NaN   \n",
              "557  55.77321250837942, 37.620671571295084   3   253           NaN   \n",
              "558   55.77035848488775, 37.60921074307702   1   652           NaN   \n",
              "559  55.74853398105157, 37.588827397745554   2   351           NaN   \n",
              "\n",
              "                                      Source  \n",
              "3    RGALI. F. 2473. Op. 1. D. 286. L. 29-30  \n",
              "4    RGALI. F. 2473. Op. 1. D. 286. L. 29-30  \n",
              "5    RGALI. F. 2473. Op. 1. D. 286. L. 29-30  \n",
              "6    RGALI. F. 2473. Op. 1. D. 286. L. 29-30  \n",
              "9                                        NaN  \n",
              "..                                       ...  \n",
              "555    TCGAM. F. 265. Op. 1. D. 42. L. 72-73  \n",
              "556    TCGAM. F. 265. Op. 1. D. 42. L. 72-73  \n",
              "557    TCGAM. F. 265. Op. 1. D. 42. L. 72-73  \n",
              "558    TCGAM. F. 265. Op. 1. D. 42. L. 72-73  \n",
              "559    TCGAM. F. 265. Op. 1. D. 42. L. 72-73  \n",
              "\n",
              "[514 rows x 8 columns]"
            ],
            "text/html": [
              "\n",
              "  <div id=\"df-6d82d96d-f432-4123-b10f-e463f42c9156\">\n",
              "    <div class=\"colab-df-container\">\n",
              "      <div>\n",
              "<style scoped>\n",
              "    .dataframe tbody tr th:only-of-type {\n",
              "        vertical-align: middle;\n",
              "    }\n",
              "\n",
              "    .dataframe tbody tr th {\n",
              "        vertical-align: top;\n",
              "    }\n",
              "\n",
              "    .dataframe thead th {\n",
              "        text-align: right;\n",
              "    }\n",
              "</style>\n",
              "<table border=\"1\" class=\"dataframe\">\n",
              "  <thead>\n",
              "    <tr style=\"text-align: right;\">\n",
              "      <th></th>\n",
              "      <th>Cinema</th>\n",
              "      <th>City</th>\n",
              "      <th>Location</th>\n",
              "      <th>Coordinates</th>\n",
              "      <th>Run</th>\n",
              "      <th>Seats</th>\n",
              "      <th>Comments</th>\n",
              "      <th>Source</th>\n",
              "    </tr>\n",
              "  </thead>\n",
              "  <tbody>\n",
              "    <tr>\n",
              "      <th>3</th>\n",
              "      <td>Колизей / Kolizeĭ</td>\n",
              "      <td>Moscow, SU</td>\n",
              "      <td>Чистые пруды 19-а</td>\n",
              "      <td>55.761781, 37.645941</td>\n",
              "      <td>1</td>\n",
              "      <td>1000</td>\n",
              "      <td>Union Cinema</td>\n",
              "      <td>RGALI. F. 2473. Op. 1. D. 286. L. 29-30</td>\n",
              "    </tr>\n",
              "    <tr>\n",
              "      <th>4</th>\n",
              "      <td>Метрополь / Metropol'</td>\n",
              "      <td>Moscow, SU</td>\n",
              "      <td>Пл. Свердлова 2/4</td>\n",
              "      <td>55.758448, 37.621669</td>\n",
              "      <td>1</td>\n",
              "      <td>680</td>\n",
              "      <td>Union Cinema</td>\n",
              "      <td>RGALI. F. 2473. Op. 1. D. 286. L. 29-30</td>\n",
              "    </tr>\n",
              "    <tr>\n",
              "      <th>5</th>\n",
              "      <td>Москва / Moskva</td>\n",
              "      <td>Moscow, SU</td>\n",
              "      <td>Пл. Маяковского, 1</td>\n",
              "      <td>55.769494, 37.593533</td>\n",
              "      <td>1</td>\n",
              "      <td>747</td>\n",
              "      <td>Union Cinema</td>\n",
              "      <td>RGALI. F. 2473. Op. 1. D. 286. L. 29-30</td>\n",
              "    </tr>\n",
              "    <tr>\n",
              "      <th>6</th>\n",
              "      <td>Ударник / Udarnik</td>\n",
              "      <td>Moscow, SU</td>\n",
              "      <td>ул. Серафимовича, 2</td>\n",
              "      <td>55.744450, 37.613072</td>\n",
              "      <td>1</td>\n",
              "      <td>1587</td>\n",
              "      <td>Union Cinema</td>\n",
              "      <td>RGALI. F. 2473. Op. 1. D. 286. L. 29-30</td>\n",
              "    </tr>\n",
              "    <tr>\n",
              "      <th>9</th>\n",
              "      <td>Авангард / Avangard</td>\n",
              "      <td>Moscow, SU</td>\n",
              "      <td>Б. Якиманка</td>\n",
              "      <td>55.731779, 37.611473</td>\n",
              "      <td>1</td>\n",
              "      <td>489</td>\n",
              "      <td>NaN</td>\n",
              "      <td>NaN</td>\n",
              "    </tr>\n",
              "    <tr>\n",
              "      <th>...</th>\n",
              "      <td>...</td>\n",
              "      <td>...</td>\n",
              "      <td>...</td>\n",
              "      <td>...</td>\n",
              "      <td>...</td>\n",
              "      <td>...</td>\n",
              "      <td>...</td>\n",
              "      <td>...</td>\n",
              "    </tr>\n",
              "    <tr>\n",
              "      <th>555</th>\n",
              "      <td>Шторм / Shtorm</td>\n",
              "      <td>Moscow, SU</td>\n",
              "      <td>Русаковская, 1</td>\n",
              "      <td>55.78235111103543, 37.67006121362364</td>\n",
              "      <td>1</td>\n",
              "      <td>622</td>\n",
              "      <td>NaN</td>\n",
              "      <td>TCGAM. F. 265. Op. 1. D. 42. L. 72-73</td>\n",
              "    </tr>\n",
              "    <tr>\n",
              "      <th>556</th>\n",
              "      <td>Экран жизни / Ėkran zhizni</td>\n",
              "      <td>Moscow, SU</td>\n",
              "      <td>Садово-Каретная, 45</td>\n",
              "      <td>55.77342398078649, 37.611662769437814</td>\n",
              "      <td>2</td>\n",
              "      <td>565</td>\n",
              "      <td>NaN</td>\n",
              "      <td>TCGAM. F. 265. Op. 1. D. 42. L. 72-73</td>\n",
              "    </tr>\n",
              "    <tr>\n",
              "      <th>557</th>\n",
              "      <td>Экспресс / Ėkspress</td>\n",
              "      <td>Moscow, SU</td>\n",
              "      <td>Цветной бульвар, 25</td>\n",
              "      <td>55.77321250837942, 37.620671571295084</td>\n",
              "      <td>3</td>\n",
              "      <td>253</td>\n",
              "      <td>NaN</td>\n",
              "      <td>TCGAM. F. 265. Op. 1. D. 42. L. 72-73</td>\n",
              "    </tr>\n",
              "    <tr>\n",
              "      <th>558</th>\n",
              "      <td>Эрмитаж / Ėrmitazh</td>\n",
              "      <td>Moscow, SU</td>\n",
              "      <td>Каретный ряд, 3</td>\n",
              "      <td>55.77035848488775, 37.60921074307702</td>\n",
              "      <td>1</td>\n",
              "      <td>652</td>\n",
              "      <td>NaN</td>\n",
              "      <td>TCGAM. F. 265. Op. 1. D. 42. L. 72-73</td>\n",
              "    </tr>\n",
              "    <tr>\n",
              "      <th>559</th>\n",
              "      <td>Юный зритель / IUnyĭ zritel'</td>\n",
              "      <td>Moscow, SU</td>\n",
              "      <td>Арбат, 39</td>\n",
              "      <td>55.74853398105157, 37.588827397745554</td>\n",
              "      <td>2</td>\n",
              "      <td>351</td>\n",
              "      <td>NaN</td>\n",
              "      <td>TCGAM. F. 265. Op. 1. D. 42. L. 72-73</td>\n",
              "    </tr>\n",
              "  </tbody>\n",
              "</table>\n",
              "<p>514 rows × 8 columns</p>\n",
              "</div>\n",
              "      <button class=\"colab-df-convert\" onclick=\"convertToInteractive('df-6d82d96d-f432-4123-b10f-e463f42c9156')\"\n",
              "              title=\"Convert this dataframe to an interactive table.\"\n",
              "              style=\"display:none;\">\n",
              "        \n",
              "  <svg xmlns=\"http://www.w3.org/2000/svg\" height=\"24px\"viewBox=\"0 0 24 24\"\n",
              "       width=\"24px\">\n",
              "    <path d=\"M0 0h24v24H0V0z\" fill=\"none\"/>\n",
              "    <path d=\"M18.56 5.44l.94 2.06.94-2.06 2.06-.94-2.06-.94-.94-2.06-.94 2.06-2.06.94zm-11 1L8.5 8.5l.94-2.06 2.06-.94-2.06-.94L8.5 2.5l-.94 2.06-2.06.94zm10 10l.94 2.06.94-2.06 2.06-.94-2.06-.94-.94-2.06-.94 2.06-2.06.94z\"/><path d=\"M17.41 7.96l-1.37-1.37c-.4-.4-.92-.59-1.43-.59-.52 0-1.04.2-1.43.59L10.3 9.45l-7.72 7.72c-.78.78-.78 2.05 0 2.83L4 21.41c.39.39.9.59 1.41.59.51 0 1.02-.2 1.41-.59l7.78-7.78 2.81-2.81c.8-.78.8-2.07 0-2.86zM5.41 20L4 18.59l7.72-7.72 1.47 1.35L5.41 20z\"/>\n",
              "  </svg>\n",
              "      </button>\n",
              "      \n",
              "  <style>\n",
              "    .colab-df-container {\n",
              "      display:flex;\n",
              "      flex-wrap:wrap;\n",
              "      gap: 12px;\n",
              "    }\n",
              "\n",
              "    .colab-df-convert {\n",
              "      background-color: #E8F0FE;\n",
              "      border: none;\n",
              "      border-radius: 50%;\n",
              "      cursor: pointer;\n",
              "      display: none;\n",
              "      fill: #1967D2;\n",
              "      height: 32px;\n",
              "      padding: 0 0 0 0;\n",
              "      width: 32px;\n",
              "    }\n",
              "\n",
              "    .colab-df-convert:hover {\n",
              "      background-color: #E2EBFA;\n",
              "      box-shadow: 0px 1px 2px rgba(60, 64, 67, 0.3), 0px 1px 3px 1px rgba(60, 64, 67, 0.15);\n",
              "      fill: #174EA6;\n",
              "    }\n",
              "\n",
              "    [theme=dark] .colab-df-convert {\n",
              "      background-color: #3B4455;\n",
              "      fill: #D2E3FC;\n",
              "    }\n",
              "\n",
              "    [theme=dark] .colab-df-convert:hover {\n",
              "      background-color: #434B5C;\n",
              "      box-shadow: 0px 1px 3px 1px rgba(0, 0, 0, 0.15);\n",
              "      filter: drop-shadow(0px 1px 2px rgba(0, 0, 0, 0.3));\n",
              "      fill: #FFFFFF;\n",
              "    }\n",
              "  </style>\n",
              "\n",
              "      <script>\n",
              "        const buttonEl =\n",
              "          document.querySelector('#df-6d82d96d-f432-4123-b10f-e463f42c9156 button.colab-df-convert');\n",
              "        buttonEl.style.display =\n",
              "          google.colab.kernel.accessAllowed ? 'block' : 'none';\n",
              "\n",
              "        async function convertToInteractive(key) {\n",
              "          const element = document.querySelector('#df-6d82d96d-f432-4123-b10f-e463f42c9156');\n",
              "          const dataTable =\n",
              "            await google.colab.kernel.invokeFunction('convertToInteractive',\n",
              "                                                     [key], {});\n",
              "          if (!dataTable) return;\n",
              "\n",
              "          const docLinkHtml = 'Like what you see? Visit the ' +\n",
              "            '<a target=\"_blank\" href=https://colab.research.google.com/notebooks/data_table.ipynb>data table notebook</a>'\n",
              "            + ' to learn more about interactive tables.';\n",
              "          element.innerHTML = '';\n",
              "          dataTable['output_type'] = 'display_data';\n",
              "          await google.colab.output.renderOutput(dataTable, element);\n",
              "          const docLink = document.createElement('div');\n",
              "          docLink.innerHTML = docLinkHtml;\n",
              "          element.appendChild(docLink);\n",
              "        }\n",
              "      </script>\n",
              "    </div>\n",
              "  </div>\n",
              "  "
            ]
          },
          "metadata": {},
          "execution_count": 17
        }
      ]
    },
    {
      "cell_type": "code",
      "source": [
        "showMe.run_of_cinema_total()"
      ],
      "metadata": {
        "colab": {
          "base_uri": "https://localhost:8080/"
        },
        "id": "M3xsbbczH6yA",
        "outputId": "c59e14a3-8580-4373-9d1b-8100b992cc3b"
      },
      "execution_count": 15,
      "outputs": [
        {
          "output_type": "execute_result",
          "data": {
            "text/plain": [
              "['Общее количество кинотеатров первого разряда в период с 1946 по 1955 г.г. составляет 243',\n",
              " 'Общее количество кинотеатров второго разряда в период с 1946 по 1955 г.г. составляет 158',\n",
              " 'Общее количество кинотеатров третьего разряда в период с 1946 по 1955 г.г. составляет 78']"
            ]
          },
          "metadata": {},
          "execution_count": 15
        }
      ]
    },
    {
      "cell_type": "code",
      "source": [
        "showMe.total_cinema_in_DF()"
      ],
      "metadata": {
        "colab": {
          "base_uri": "https://localhost:8080/"
        },
        "id": "KuhrvXsdWurG",
        "outputId": "286e7413-3b9a-49e5-dff1-3b7715dd07f3"
      },
      "execution_count": 16,
      "outputs": [
        {
          "output_type": "execute_result",
          "data": {
            "text/plain": [
              "Counter({'Колизей / Kolizeĭ': 8,\n",
              "         \"Метрополь / Metropol'\": 7,\n",
              "         'Москва / Moskva': 8,\n",
              "         'Ударник / Udarnik': 6,\n",
              "         'Авангард / Avangard': 10,\n",
              "         'Аврора / Avrora': 10,\n",
              "         'Арс / Ars': 8,\n",
              "         'Баррикады / Barrikady': 10,\n",
              "         'Востоккино / Vostokkino': 1,\n",
              "         'Динамо / Dinamo': 9,\n",
              "         'Диск / Disk': 10,\n",
              "         'Заря / Zaria': 10,\n",
              "         'им. III Интернационала / im. III Internatsionala': 8,\n",
              "         'Кадр / Kadr': 10,\n",
              "         \"Кинотеатр повторного фильма / Kinoteatr povtornogo fil'ma\": 10,\n",
              "         'Луч / Luch': 10,\n",
              "         'Мир / Mir': 10,\n",
              "         'Молот / Molot': 10,\n",
              "         'Наука и знание / Nauka i znanie': 10,\n",
              "         'Новости дня / Novosti dnia': 10,\n",
              "         \"Октябрь / Oktiabr'\": 10,\n",
              "         'Орион / Orion': 10,\n",
              "         'Перекоп / Perekop': 10,\n",
              "         \"ПКиО Сокольники / PKIO Sokol'niki\": 8,\n",
              "         'Родина / Rodina': 5,\n",
              "         'Сад им. Баумана / Sad im. Baumana': 8,\n",
              "         'Сад Эрмитаж / Sad Ėrmitazh': 8,\n",
              "         'Смена / Smena': 10,\n",
              "         'Спартак / Spartak': 10,\n",
              "         'Таганский / Taganskiĭ': 10,\n",
              "         'Таганский ПКиО / Taganskiĭ PKIO': 3,\n",
              "         'Театр киноактера / Teatr kinoaktera': 8,\n",
              "         'Уран / Uran': 10,\n",
              "         'Форум / Forum': 10,\n",
              "         'Хроника / Khronika': 10,\n",
              "         'Художественный / Khudozhestvennyĭ': 10,\n",
              "         \"Центральный / Tsentral'nyĭ\": 10,\n",
              "         \"ЦПКиО им. Горького / TSPKiO im. Gor'kogo\": 10,\n",
              "         'Шторм / Shtorm': 10,\n",
              "         'Экран жизни / Ėkran zhizni': 10,\n",
              "         'Экспресс / Ėkspress': 10,\n",
              "         \"Юный зритель / IUnyĭ zritel'\": 10,\n",
              "         'Салют / Salut': 2,\n",
              "         'Стереокино / Stereokino': 9,\n",
              "         'Эрмитаж / Ėrmitazh': 8,\n",
              "         'Аквариум / Akvarium': 8,\n",
              "         'Дзержинский ПКиО / Dzerzhinskiĭ PKiO': 6,\n",
              "         'Измайловский ПКиО имени Сталина / Izmaĭlovskiĭ PKiO imeni Stalina': 6,\n",
              "         'Искра / Iskra': 8,\n",
              "         \"Кинозал короткометражного фильма / Kinozal korotkometrazhnogo fil'ma\": 8,\n",
              "         \"ПКиО Сокольники / PKiO Sokol'niki\": 2,\n",
              "         'Победа / Pobeda': 2,\n",
              "         'Салют / Saliut': 1,\n",
              "         'Ждановский ПКиО (Таганский ПКиО) / Zhdanovskiĭ PKiO (Taganskiĭ PKiO)': 1,\n",
              "         'Красная Пресня / Krasnaia Presnia': 3,\n",
              "         'Открытый кинотеатр (Усачёвский сквер) / Otkrytyĭ kinoteatr (Usachëvskiī skver)': 4,\n",
              "         'Открытый кинотеатр в парке им. Воровского / Otkrytyĭ kinoteatr v parke im. Vorovskogo': 4,\n",
              "         'Призыв / Prizyv': 7,\n",
              "         'Main Venue': 1,\n",
              "         'Blue Venue': 1,\n",
              "         'Ждановский ПКиО / Zhdanovskiĭ PKiO ': 2,\n",
              "         'им. Моссовета / im. Mossoveta': 6,\n",
              "         'Маяк 2-х зальный / Maiak, 2 venues': 5,\n",
              "         'Родина 2-х зальный / Rodina, 2 venues': 5,\n",
              "         'Салют 2-х зальный / Saliut, 2 venues': 6,\n",
              "         \"ВСХВ большой зал / VSKHV bol'shoī zal\": 3,\n",
              "         'ВСХВ малый зал / VSKHV malyī zal': 3,\n",
              "         'Ждановский ПКиО / Zhdanovskiĭ PKiO': 2,\n",
              "         'Колизей / Kolizeī': 2,\n",
              "         'Маяк / Maiak': 1,\n",
              "         'Ударник 2-х зальный / Udarnik, 2 venues': 2,\n",
              "         \"Метрополь 3-х зальный / Metropol', 3 venues\": 3,\n",
              "         'Дружба / Druzhba': 2,\n",
              "         'Звезда / Zvezda': 2,\n",
              "         'Знамя / Znamia': 2,\n",
              "         'Красная Пресня / Krasnaia presnia': 1,\n",
              "         'Москва': 2,\n",
              "         'Радуга / Raduga': 2,\n",
              "         'Ударник, включая малый и красный залы, 496 мест / Udarnik, including small and reed venues of 496 places': 2,\n",
              "         'Молния 2-х зальный / Molniia, 2 venues': 1,\n",
              "         'Отдых / Otdykh': 1,\n",
              "         'Пионер / Pioner': 1,\n",
              "         'Пламя 2-х зальный / Plamia,2 venues': 1,\n",
              "         'Слава 2-х зальный / Slava, 2 venues': 1})"
            ]
          },
          "metadata": {},
          "execution_count": 16
        }
      ]
    },
    {
      "cell_type": "code",
      "source": [
        "showMe.run_of_cinema_unique()"
      ],
      "metadata": {
        "colab": {
          "base_uri": "https://localhost:8080/"
        },
        "id": "MZIzRgz0khyN",
        "outputId": "58fbe36c-9264-4dc8-9623-14f7193075dd"
      },
      "execution_count": 14,
      "outputs": [
        {
          "output_type": "execute_result",
          "data": {
            "text/plain": [
              "Cinema\n",
              "Blue Venue                                             [1]\n",
              "Main Venue                                             [1]\n",
              "Авангард / Avangard                                 [1, 2]\n",
              "Аврора / Avrora                                        [3]\n",
              "Аквариум / Akvarium                                    [2]\n",
              "                                                     ...  \n",
              "Экспресс / Ėkspress                                 [2, 3]\n",
              "Эрмитаж / Ėrmitazh                                     [1]\n",
              "Юный зритель / IUnyĭ zritel'                           [2]\n",
              "им. III Интернационала / im. III Internatsionala       [2]\n",
              "им. Моссовета / im. Mossoveta                          [1]\n",
              "Name: Run, Length: 84, dtype: object"
            ]
          },
          "metadata": {},
          "execution_count": 14
        }
      ]
    },
    {
      "cell_type": "code",
      "source": [
        "showMe.cinema_unique()"
      ],
      "metadata": {
        "colab": {
          "base_uri": "https://localhost:8080/"
        },
        "id": "d6R_MF0BYggt",
        "outputId": "d14baba0-4bd1-4dd0-81e1-7564022ee53f"
      },
      "execution_count": 13,
      "outputs": [
        {
          "output_type": "execute_result",
          "data": {
            "text/plain": [
              "Cinema                                            Seats   Run\n",
              "Blue Venue                                        196     1      1\n",
              "Main Venue                                        924     1      1\n",
              "Авангард / Avangard                               463     2      1\n",
              "                                                  489     1      1\n",
              "                                                  489/26  1      1\n",
              "                                                                ..\n",
              "им. III Интернационала / im. III Internatsionala  428     2      1\n",
              "                                                  431/30  2      1\n",
              "                                                  455     2      1\n",
              "им. Моссовета / im. Mossoveta                     684     1      1\n",
              "                                                  705     1      1\n",
              "Name: Seats, Length: 217, dtype: int64"
            ]
          },
          "metadata": {},
          "execution_count": 13
        }
      ]
    },
    {
      "cell_type": "code",
      "source": [
        "showMe.number_of_unique_run()"
      ],
      "metadata": {
        "colab": {
          "base_uri": "https://localhost:8080/"
        },
        "id": "JS3GrGVEgoJn",
        "outputId": "cdeb8eaa-1690-43f8-c0ef-63cf58793eaf"
      },
      "execution_count": 12,
      "outputs": [
        {
          "output_type": "execute_result",
          "data": {
            "text/plain": [
              "Cinema                                            Run\n",
              "Blue Venue                                        1       1\n",
              "Main Venue                                        1       1\n",
              "Авангард / Avangard                               1       6\n",
              "                                                  2       4\n",
              "Аврора / Avrora                                   3      10\n",
              "                                                         ..\n",
              "Экспресс / Ėkspress                               3       4\n",
              "Эрмитаж / Ėrmitazh                                1       8\n",
              "Юный зритель / IUnyĭ zritel'                      2      10\n",
              "им. III Интернационала / im. III Internatsionala  2       8\n",
              "им. Моссовета / im. Mossoveta                     1       6\n",
              "Name: Run, Length: 91, dtype: int64"
            ]
          },
          "metadata": {},
          "execution_count": 12
        }
      ]
    },
    {
      "cell_type": "markdown",
      "source": [
        "Далеее идут наработки, которые нужно будет удалить"
      ],
      "metadata": {
        "id": "yPdN0EFfQVKM"
      }
    },
    {
      "cell_type": "code",
      "execution_count": null,
      "metadata": {
        "id": "WK26Yhtu9_Qy"
      },
      "outputs": [],
      "source": [
        "class Top10Cinemas(MoscowCinemas):\n",
        "  def __init__(self, filename: str):\n",
        "    self.filename = filename\n",
        "\n",
        "  def read_file(self):\n",
        "    mcinemas = super().read_file()\n",
        "    return mcinemas\n",
        "  \n",
        "  def new_dataframe(self): # создаем новый датафрейм с нужными нам колонками\n",
        "    df = pd.read_csv(self.filename, usecols = ['Cinema', 'Coordinates', 'Run', 'Seats'])\n",
        "    return df\n",
        "\n",
        "  def \n",
        "  def estimation(self): # тут мы отсортируем по убыванию оценки и кол-во оценивших (, и покажем в процентном сообношении от самого большого числа проголосовавших)\n",
        "    estimation_sort = pandasForSortingCSV.read_csv(self.filename, usecols = ['title', 'score', 'scored_by', 'genres'])\n",
        "    estimation_sort.sort_values(['score', 'scored_by'], axis=0, ascending=[False, False], inplace=True)\n",
        "    return estimation_sort\n",
        "\n",
        "  def top10(self): # тут мы отбираем только первые 10 строк с информацией, которые пнадобятся для построения визуализации\n",
        "    #df_top10 = pd.read_csv(self.filename, nrows=10)\n",
        "    df_top10 = self.estimation()\n",
        "    return df_top10.head(10)\n",
        "    #loc[:10]\n",
        "\n",
        "  def tokenize_genres(self): # Я НЕ ПОНИМАЮ ПОЧЕМУ ОН ПОКАЗЫВАЕТ ПУСТОЙ СПИСОК НЕ ПОНИМАЮ И ВСЕ АААААА\n",
        "    list1 = []\n",
        "    data = self.new_dataframe()\n",
        "    genres_list = list1.append(data['genres'].tolist())\n",
        "    genres_dict = Counter(genres_list)\n",
        "    return genres_dict.most_common()\n",
        "\n",
        "  def most_popular_genres1(self): # тут мы смотрим, какие жанры самые популярные \n",
        "    df = self.new_dataframe()\n",
        "    genre_list = df['genres'].tolist()\n",
        "    genre_dict = Counter(genre_list)\n",
        "    return genre_dict.most_common()[:5] # по сути тут можно поставить любое число, которое покажет кол-во жанров\n",
        "\n",
        "  def visualize_top10_score(self): # рисуем plot bar для топ-10 аниме по рейтингу\n",
        "    v_plot = self.top10()\n",
        "    v_plot.groupby('title').max().plot.bar(y='score')\n",
        "    plt.title('Топ-10 Аниме по Рейтингу')\n",
        "    return plt.show()\n",
        "  \n",
        "  def visualize_top10_scored_by(self): # рисуем plot bar для топ-10 аниме по популярности\n",
        "    v_plot = self.top10().groupby('title').max().plot.bar(y='scored_by')\n",
        "    plt.title('Топ-10 Аниме по Популярности')\n",
        "    return plt.show()\n"
      ]
    }
  ]
}